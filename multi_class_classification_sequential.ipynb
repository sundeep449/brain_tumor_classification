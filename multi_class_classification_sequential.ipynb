{
  "cells": [
    {
      "cell_type": "code",
      "execution_count": null,
      "metadata": {
        "id": "m3scgqFAhza-"
      },
      "outputs": [],
      "source": [
        "from google.colab import drive"
      ]
    },
    {
      "cell_type": "code",
      "execution_count": null,
      "metadata": {
        "colab": {
          "base_uri": "https://localhost:8080/"
        },
        "id": "dXPw6D7Gie7F",
        "outputId": "3b5a639f-4598-438a-d8c0-73e43f37401a"
      },
      "outputs": [
        {
          "output_type": "stream",
          "name": "stdout",
          "text": [
            "Mounted at /content/gdrive\n"
          ]
        }
      ],
      "source": [
        "drive.mount('/content/gdrive')"
      ]
    },
    {
      "cell_type": "code",
      "execution_count": 1,
      "metadata": {
        "id": "n8tE2e2Ys70i"
      },
      "outputs": [],
      "source": [
        "from keras.layers.normalization.batch_normalization import BatchNormalization"
      ]
    },
    {
      "cell_type": "code",
      "execution_count": 2,
      "metadata": {
        "id": "egDiS-Nxi4YT"
      },
      "outputs": [],
      "source": [
        "import numpy as np\n",
        "import pandas as pd\n",
        "import os\n",
        "import cv2\n",
        "import matplotlib.pyplot as plt\n",
        "from sklearn.model_selection import train_test_split\n",
        "from sklearn.metrics import classification_report, confusion_matrix\n",
        "import seaborn as sns\n",
        "from keras.models import Sequential\n",
        "from keras.layers import Conv2D, MaxPooling2D, Flatten, Dense, Dropout\n",
        "from keras.utils import to_categorical\n",
        "from random import shuffle\n",
        "from PIL import Image\n",
        "from skimage.morphology import disk\n",
        "from skimage.util import img_as_ubyte\n",
        "import imageio\n",
        "from tqdm import tqdm\n",
        "import tensorflow as tf"
      ]
    },
    {
      "cell_type": "code",
      "execution_count": 3,
      "metadata": {
        "id": "hpLBrKXMi_5-"
      },
      "outputs": [],
      "source": [
        "# Set up paths\n",
        "data_path = '/content/gdrive/MyDrive/Brain Tumor'"
      ]
    },
    {
      "cell_type": "code",
      "execution_count": 4,
      "metadata": {
        "id": "ijX_Av9_kqff"
      },
      "outputs": [],
      "source": [
        "# Define image size and batch size\n",
        "IMG_SIZE = 512\n",
        "BATCH_SIZE = 32"
      ]
    },
    {
      "cell_type": "code",
      "execution_count": 5,
      "metadata": {
        "id": "8SGV7LwMkunP"
      },
      "outputs": [],
      "source": [
        "# Define a function to preprocess the images\n",
        "def preprocess_images(path):\n",
        "    images = []\n",
        "    labels = []\n",
        "    for label, tumor_type in enumerate(['glioma_tumor', 'pituitary_tumor', 'no_tumor', 'meningioma_tumor']):\n",
        "        tumor_path = os.path.join(path, tumor_type)\n",
        "        for img_name in os.listdir(tumor_path):\n",
        "            img_path = os.path.join(tumor_path, img_name)\n",
        "            img = cv2.imread(img_path)\n",
        "            img = cv2.resize(img, (IMG_SIZE, IMG_SIZE))\n",
        "            images.append(img)\n",
        "            labels.append(label)\n",
        "    return np.array(images), np.array(labels)"
      ]
    },
    {
      "cell_type": "code",
      "execution_count": 6,
      "metadata": {
        "id": "Fr9eoX5hq6XG"
      },
      "outputs": [],
      "source": [
        "# Preprocess the training and testing images\n",
        "X, y = preprocess_images(data_path)"
      ]
    },
    {
      "cell_type": "code",
      "execution_count": null,
      "metadata": {
        "colab": {
          "base_uri": "https://localhost:8080/"
        },
        "id": "eWn9YLqdE94E",
        "outputId": "b7da1e32-e812-4243-d0a4-6b0582aeffe0"
      },
      "outputs": [
        {
          "output_type": "stream",
          "name": "stdout",
          "text": [
            "[0 0 0 ... 3 3 3]\n"
          ]
        }
      ],
      "source": [
        "print(y)"
      ]
    },
    {
      "cell_type": "code",
      "execution_count": 7,
      "metadata": {
        "colab": {
          "base_uri": "https://localhost:8080/"
        },
        "id": "oo9Oi0-Rlqyq",
        "outputId": "c4c464b5-8246-4ae9-e2ad-a63d32810ced"
      },
      "outputs": [
        {
          "output_type": "stream",
          "name": "stdout",
          "text": [
            "[[1. 0. 0. 0.]\n",
            " [1. 0. 0. 0.]\n",
            " [1. 0. 0. 0.]\n",
            " ...\n",
            " [0. 0. 0. 1.]\n",
            " [0. 0. 0. 1.]\n",
            " [0. 0. 0. 1.]]\n"
          ]
        }
      ],
      "source": [
        "# Convert the labels to one-hot encoding\n",
        "y = to_categorical(y)\n",
        "print(y)"
      ]
    },
    {
      "cell_type": "code",
      "execution_count": 8,
      "metadata": {
        "id": "qXhCTICLE3VW"
      },
      "outputs": [],
      "source": [
        "# Split the data into training and validation sets\n",
        "X_train, X_val, y_train, y_val = train_test_split(X, y, test_size=0.2, random_state=42)"
      ]
    },
    {
      "cell_type": "code",
      "execution_count": 9,
      "metadata": {
        "colab": {
          "base_uri": "https://localhost:8080/"
        },
        "id": "YrBWYhODlwhT",
        "outputId": "7a12550d-d5ed-47ac-a7b4-61b5d0c5d05e"
      },
      "outputs": [
        {
          "output_type": "stream",
          "name": "stdout",
          "text": [
            "Model: \"sequential\"\n",
            "_________________________________________________________________\n",
            " Layer (type)                Output Shape              Param #   \n",
            "=================================================================\n",
            " conv2d (Conv2D)             (None, 510, 510, 16)      448       \n",
            "                                                                 \n",
            " max_pooling2d (MaxPooling2D  (None, 255, 255, 16)     0         \n",
            " )                                                               \n",
            "                                                                 \n",
            " conv2d_1 (Conv2D)           (None, 253, 253, 32)      4640      \n",
            "                                                                 \n",
            " max_pooling2d_1 (MaxPooling  (None, 126, 126, 32)     0         \n",
            " 2D)                                                             \n",
            "                                                                 \n",
            " conv2d_2 (Conv2D)           (None, 124, 124, 32)      9248      \n",
            "                                                                 \n",
            " max_pooling2d_2 (MaxPooling  (None, 62, 62, 32)       0         \n",
            " 2D)                                                             \n",
            "                                                                 \n",
            " conv2d_3 (Conv2D)           (None, 60, 60, 64)        18496     \n",
            "                                                                 \n",
            " max_pooling2d_3 (MaxPooling  (None, 30, 30, 64)       0         \n",
            " 2D)                                                             \n",
            "                                                                 \n",
            " conv2d_4 (Conv2D)           (None, 28, 28, 128)       73856     \n",
            "                                                                 \n",
            " max_pooling2d_4 (MaxPooling  (None, 14, 14, 128)      0         \n",
            " 2D)                                                             \n",
            "                                                                 \n",
            " conv2d_5 (Conv2D)           (None, 12, 12, 128)       147584    \n",
            "                                                                 \n",
            " max_pooling2d_5 (MaxPooling  (None, 6, 6, 128)        0         \n",
            " 2D)                                                             \n",
            "                                                                 \n",
            " conv2d_6 (Conv2D)           (None, 4, 4, 256)         295168    \n",
            "                                                                 \n",
            " max_pooling2d_6 (MaxPooling  (None, 2, 2, 256)        0         \n",
            " 2D)                                                             \n",
            "                                                                 \n",
            " flatten (Flatten)           (None, 1024)              0         \n",
            "                                                                 \n",
            " Retrieval_Layer (Dense)     (None, 512)               524800    \n",
            "                                                                 \n",
            " dense (Dense)               (None, 64)                32832     \n",
            "                                                                 \n",
            " dense_1 (Dense)             (None, 4)                 260       \n",
            "                                                                 \n",
            "=================================================================\n",
            "Total params: 1,107,332\n",
            "Trainable params: 1,107,332\n",
            "Non-trainable params: 0\n",
            "_________________________________________________________________\n"
          ]
        }
      ],
      "source": [
        "model = tf.keras.models.Sequential([\n",
        "# Note the input shape is the desired size of the image 150x150 with 3 bytescolor\n",
        "# This is the first convolution\n",
        "tf.keras.layers.Conv2D(16, (3,3), activation='relu', input_shape=(512,512,3)),\n",
        "tf.keras.layers.MaxPooling2D(2, 2),\n",
        "# The second convolution\n",
        "tf.keras.layers.Conv2D(32, (3,3), activation='relu'),\n",
        "tf.keras.layers.MaxPooling2D(2,2),\n",
        "# The third convolution\n",
        "tf.keras.layers.Conv2D(32, (3,3), activation='relu'),\n",
        "tf.keras.layers.MaxPooling2D(2,2),\n",
        "# The fourth convolution\n",
        "tf.keras.layers.Conv2D(64, (3,3), activation='relu'),\n",
        "tf.keras.layers.MaxPooling2D(2,2),\n",
        "# The fifth convolution\n",
        "tf.keras.layers.Conv2D(128, (3,3), activation='relu'),\n",
        "tf.keras.layers.MaxPooling2D(2,2),\n",
        "# Flatten the results to feed into a DNN\n",
        "tf.keras.layers.Conv2D(128, (3,3), activation='relu'),\n",
        "tf.keras.layers.MaxPooling2D(2,2),\n",
        "tf.keras.layers.Conv2D(256, (3,3), activation='relu'),\n",
        "tf.keras.layers.MaxPooling2D(2,2),\n",
        "tf.keras.layers.Flatten(),\n",
        "# 512 neuron hidden layer\n",
        "tf.keras.layers.Dense(512, activation='relu',name='Retrieval_Layer'),\n",
        "tf.keras.layers.Dense(64, activation='relu'),\n",
        "# tf.keras.layers.Dense(32, activation='relu'),\n",
        "# tf.keras.layers.Dense(16, activation='relu'),\n",
        "tf.keras.layers.Dense(4, activation='softmax')\n",
        "])\n",
        "model.summary()"
      ]
    },
    {
      "cell_type": "code",
      "execution_count": 10,
      "metadata": {
        "colab": {
          "base_uri": "https://localhost:8080/"
        },
        "id": "o4yk1QCNtOc9",
        "outputId": "5ba1439a-207b-4786-a234-592b8c0d39a0"
      },
      "outputs": [
        {
          "output_type": "stream",
          "name": "stderr",
          "text": [
            "WARNING:absl:`lr` is deprecated, please use `learning_rate` instead, or use the legacy optimizer, e.g.,tf.keras.optimizers.legacy.Adam.\n"
          ]
        }
      ],
      "source": [
        "from tensorflow.keras.optimizers import Adam\n",
        "model.compile(optimizer=Adam(lr=1e-4), loss='categorical_crossentropy', metrics=['accuracy'])"
      ]
    },
    {
      "cell_type": "code",
      "execution_count": 11,
      "metadata": {
        "colab": {
          "base_uri": "https://localhost:8080/"
        },
        "id": "6bjE4_iPeZBC",
        "outputId": "222e259a-b931-4591-d970-0125889416e0"
      },
      "outputs": [
        {
          "output_type": "stream",
          "name": "stdout",
          "text": [
            "Epoch 1/10\n",
            "72/72 [==============================] - 23s 149ms/step - loss: 1.6126 - accuracy: 0.4421 - val_loss: 1.0264 - val_accuracy: 0.4582\n",
            "Epoch 2/10\n",
            "72/72 [==============================] - 9s 119ms/step - loss: 0.8944 - accuracy: 0.6180 - val_loss: 0.7153 - val_accuracy: 0.7021\n",
            "Epoch 3/10\n",
            "72/72 [==============================] - 9s 118ms/step - loss: 0.6661 - accuracy: 0.7208 - val_loss: 0.5475 - val_accuracy: 0.7892\n",
            "Epoch 4/10\n",
            "72/72 [==============================] - 8s 118ms/step - loss: 0.4975 - accuracy: 0.7922 - val_loss: 0.4394 - val_accuracy: 0.8432\n",
            "Epoch 5/10\n",
            "72/72 [==============================] - 9s 119ms/step - loss: 0.3446 - accuracy: 0.8772 - val_loss: 0.3855 - val_accuracy: 0.8780\n",
            "Epoch 6/10\n",
            "72/72 [==============================] - 9s 121ms/step - loss: 0.3056 - accuracy: 0.8802 - val_loss: 0.4500 - val_accuracy: 0.8537\n",
            "Epoch 7/10\n",
            "72/72 [==============================] - 9s 119ms/step - loss: 0.2688 - accuracy: 0.9037 - val_loss: 0.3055 - val_accuracy: 0.8937\n",
            "Epoch 8/10\n",
            "72/72 [==============================] - 9s 120ms/step - loss: 0.1874 - accuracy: 0.9286 - val_loss: 0.3604 - val_accuracy: 0.8763\n",
            "Epoch 9/10\n",
            "72/72 [==============================] - 9s 121ms/step - loss: 0.1316 - accuracy: 0.9547 - val_loss: 0.3757 - val_accuracy: 0.8833\n",
            "Epoch 10/10\n",
            "72/72 [==============================] - 9s 121ms/step - loss: 0.1117 - accuracy: 0.9617 - val_loss: 0.3621 - val_accuracy: 0.8868\n"
          ]
        }
      ],
      "source": [
        "from tensorflow.keras.callbacks import ModelCheckpoint\n",
        "\n",
        "# Define a checkpoint to save the best model weights\n",
        "checkpoint = ModelCheckpoint('model_weights.h5', monitor='val_accuracy', save_best_only=True, save_weights_only=True)\n",
        "\n",
        "# Train the model and save the history\n",
        "history = model.fit(x=X_train, y=y_train, validation_data=(X_val, y_val), epochs=10, use_multiprocessing=True, callbacks=[checkpoint])\n",
        "\n",
        "# Save the entire model to a .h5 file\n",
        "model.save('brain_tumor_model.h5')\n",
        "\n",
        "# Save the training history to a .npy file\n",
        "np.save('brain_tumor_history.npy', history.history)"
      ]
    },
    {
      "cell_type": "code",
      "execution_count": 9,
      "metadata": {
        "id": "ygjiafYdgV-g"
      },
      "outputs": [],
      "source": [
        "import keras\n",
        "model_path1 = '/content/brain_tumor_model.h5'\n",
        "model1 = keras.models.load_model(model_path1)"
      ]
    },
    {
      "cell_type": "code",
      "execution_count": 10,
      "metadata": {
        "colab": {
          "base_uri": "https://localhost:8080/"
        },
        "id": "Kd5eBd5fmH7Q",
        "outputId": "c4fa4a9a-71ee-4a2c-f564-663667f77540"
      },
      "outputs": [
        {
          "output_type": "stream",
          "name": "stdout",
          "text": [
            "18/18 [==============================] - 8s 62ms/step - loss: 0.3621 - accuracy: 0.8868\n",
            "Test loss: 0.3621402978897095\n",
            "Test accuracy: 0.8867595791816711\n"
          ]
        }
      ],
      "source": [
        "# Evaluate the model on the test set\n",
        "test_loss, test_acc = model1.evaluate(X_val, y_val)\n",
        "print('Test loss:', test_loss)\n",
        "print('Test accuracy:', test_acc)"
      ]
    },
    {
      "cell_type": "code",
      "execution_count": 12,
      "metadata": {
        "id": "07zB6XZjmY_6",
        "colab": {
          "base_uri": "https://localhost:8080/"
        },
        "outputId": "d436a636-2c12-4cf1-e2ec-27db5194a42c"
      },
      "outputs": [
        {
          "output_type": "stream",
          "name": "stdout",
          "text": [
            "18/18 [==============================] - 1s 33ms/step\n",
            "Classification Report:\n",
            "               precision    recall  f1-score   support\n",
            "\n",
            "           0       0.93      0.91      0.92       179\n",
            "           1       0.93      0.94      0.93       170\n",
            "           2       0.76      0.94      0.84        71\n",
            "           3       0.86      0.79      0.82       154\n",
            "\n",
            "    accuracy                           0.89       574\n",
            "   macro avg       0.87      0.89      0.88       574\n",
            "weighted avg       0.89      0.89      0.89       574\n",
            "\n"
          ]
        }
      ],
      "source": [
        "# Generate a classification report and heatmap of the confusion matrix\n",
        "y_test_pred = np.argmax(model1.predict(X_val), axis=1)\n",
        "y_test_true = np.argmax(y_val, axis=1)\n",
        "print(\"Classification Report:\\n\", classification_report(y_test_true, y_test_pred))"
      ]
    },
    {
      "cell_type": "code",
      "source": [
        "from sklearn.metrics import confusion_matrix\n",
        "\n",
        "# Generate confusion matrix\n",
        "cm = confusion_matrix(y_test_true, y_test_pred)\n",
        "\n",
        "# Calculate sensitivity (TPR) and specificity (TNR) for each class\n",
        "tp = cm.diagonal()\n",
        "fn = cm.sum(axis=1) - tp\n",
        "fp = cm.sum(axis=0) - tp\n",
        "tn = cm.sum() - tp - fn - fp\n",
        "\n",
        "sensitivity = np.round(tp / (tp + fn) * 100, 2)\n",
        "specificity = np.round(tn / (tn + fp) * 100, 2)\n",
        "accuracy = np.round((tp + tn) / (tp + tn + fp + fn) * 100, 2)\n",
        "\n",
        "# Print results rounded to 2 decimal places\n",
        "print('Sensitivity (TPR):', sensitivity)\n",
        "print('Specificity (TNR):', specificity)\n",
        "print('Accuracy:', accuracy)"
      ],
      "metadata": {
        "colab": {
          "base_uri": "https://localhost:8080/"
        },
        "id": "iHBlHC-RIARl",
        "outputId": "d35693ad-e4f6-4e87-d254-d90d31f3edea"
      },
      "execution_count": 23,
      "outputs": [
        {
          "output_type": "stream",
          "name": "stdout",
          "text": [
            "Sensitivity (TPR): [90.5  93.53 94.37 78.57]\n",
            "Specificity (TNR): [96.71 97.03 95.83 95.48]\n",
            "Accuracy: [94.77 95.99 95.64 90.94]\n"
          ]
        }
      ]
    },
    {
      "cell_type": "code",
      "execution_count": 15,
      "metadata": {
        "colab": {
          "base_uri": "https://localhost:8080/",
          "height": 295
        },
        "id": "vF2-XMrkmfik",
        "outputId": "ebab4930-2d21-4491-c070-68449a8346c6"
      },
      "outputs": [
        {
          "output_type": "display_data",
          "data": {
            "text/plain": [
              "<Figure size 432x288 with 2 Axes>"
            ],
            "image/png": "[encoded data removed]"
          },
          "metadata": {
            "needs_background": "light"
          }
        }
      ],
      "source": [
        "# Generate a heatmap of the confusion matrix\n",
        "cm = confusion_matrix(y_test_true, y_test_pred)\n",
        "sns.heatmap(cm, annot=True, fmt='d')\n",
        "plt.title('Confusion Matrix')\n",
        "plt.xlabel('Predicted Label')\n",
        "plt.ylabel('True Label')\n",
        "plt.show()"
      ]
    },
    {
      "cell_type": "code",
      "execution_count": 16,
      "metadata": {
        "colab": {
          "base_uri": "https://localhost:8080/",
          "height": 573
        },
        "id": "QOycEXwvnSA0",
        "outputId": "06a77f64-1d98-438f-b832-f5fcd1e2cc7a"
      },
      "outputs": [
        {
          "output_type": "display_data",
          "data": {
            "text/plain": [
              "<Figure size 432x288 with 1 Axes>"
            ],
            "image/png": "[encoded data removed]"
          },
          "metadata": {
            "needs_background": "light"
          }
        },
        {
          "output_type": "display_data",
          "data": {
            "text/plain": [
              "<Figure size 432x288 with 1 Axes>"
            ],
            "image/png": "[encoded data removed]"
          },
          "metadata": {
            "needs_background": "light"
          }
        }
      ],
      "source": [
        "import keras\n",
        "import matplotlib.pyplot as plt\n",
        "\n",
        "# Load the model\n",
        "model_path1 = '/content/brain_tumor_model.h5'\n",
        "model1 = keras.models.load_model(model_path1)\n",
        "\n",
        "# Load the training history\n",
        "history = np.load('/content/brain_tumor_history.npy', allow_pickle=True).item()\n",
        "\n",
        "# Plot the training and validation accuracy over time\n",
        "plt.plot(history['accuracy'])\n",
        "plt.plot(history['val_accuracy'])\n",
        "plt.title('Model Accuracy')\n",
        "plt.xlabel('Epoch')\n",
        "plt.ylabel('Accuracy')\n",
        "plt.legend(['train', 'val'], loc='upper left')\n",
        "plt.show()\n",
        "\n",
        "# Plot the training and validation loss over time\n",
        "plt.plot(history['loss'])\n",
        "plt.plot(history['val_loss'])\n",
        "plt.title('Model Loss')\n",
        "plt.xlabel('Epoch')\n",
        "plt.ylabel('Loss')\n",
        "plt.legend(['train', 'val'], loc='upper left')\n",
        "plt.show()"
      ]
    },
    {
      "cell_type": "code",
      "execution_count": 17,
      "metadata": {
        "colab": {
          "base_uri": "https://localhost:8080/",
          "height": 439
        },
        "id": "1hnUb5690uBr",
        "outputId": "c7171a23-c80d-4f24-eee0-f532d9349141"
      },
      "outputs": [
        {
          "output_type": "stream",
          "name": "stdout",
          "text": [
            "72/72 [==============================] - 11s 111ms/step - loss: 0.0912 - accuracy: 0.9660\n",
            "18/18 [==============================] - 1s 29ms/step\n"
          ]
        },
        {
          "output_type": "display_data",
          "data": {
            "text/plain": [
              "<Figure size 576x432 with 1 Axes>"
            ],
            "image/png": "[encoded data removed]"
          },
          "metadata": {
            "needs_background": "light"
          }
        }
      ],
      "source": [
        "from sklearn.metrics import roc_curve, auc\n",
        "from sklearn import svm\n",
        "from sklearn.preprocessing import label_binarize\n",
        "from sklearn.multiclass import OneVsRestClassifier\n",
        "\n",
        "# Convert y_train and y_val to one-hot encoded binary matrix\n",
        "y_train_binary = label_binarize(y_train, classes=[0, 1, 2, 3])\n",
        "y_val_binary = label_binarize(y_val, classes=[0, 1, 2, 3])\n",
        "\n",
        "# Train the model using OneVsRestClassifier\n",
        "#model = OneVsRestClassifier(svm.SVC(kernel='linear', probability=True, random_state=0))\n",
        "model1.fit(X_train, y_train_binary)\n",
        "\n",
        "# Compute the predicted probabilities for each class on the validation set\n",
        "y_score = model1.predict(X_val)\n",
        "\n",
        "# Compute the ROC curve for each class\n",
        "fpr = dict()\n",
        "tpr = dict()\n",
        "roc_auc = dict()\n",
        "for i in range(4):\n",
        "    fpr[i], tpr[i], _ = roc_curve(y_val_binary[:, i], y_score[:, i])\n",
        "    roc_auc[i] = auc(fpr[i], tpr[i])\n",
        "\n",
        "# Compute micro-average ROC curve and ROC area\n",
        "fpr[\"micro\"], tpr[\"micro\"], _ = roc_curve(y_val_binary.ravel(), y_score.ravel())\n",
        "roc_auc[\"micro\"] = auc(fpr[\"micro\"], tpr[\"micro\"])\n",
        "\n",
        "# Plot the ROC curves\n",
        "plt.figure(figsize=(8, 6))\n",
        "plt.plot(fpr[0], tpr[0], color='blue', lw=2, label='ROC curve (area = %0.2f)' % roc_auc[0])\n",
        "plt.plot(fpr[1], tpr[1], color='green', lw=2, label='ROC curve (area = %0.2f)' % roc_auc[1])\n",
        "plt.plot(fpr[2], tpr[2], color='red', lw=2, label='ROC curve (area = %0.2f)' % roc_auc[2])\n",
        "plt.plot(fpr[3], tpr[3], color='orange', lw=2, label='ROC curve (area = %0.2f)' % roc_auc[3])\n",
        "plt.plot(fpr[\"micro\"], tpr[\"micro\"], color='black', lw=2, linestyle='--', label='micro-average ROC curve (area = %0.2f)' % roc_auc[\"micro\"])\n",
        "plt.plot([0, 1], [0, 1], color='gray', lw=2, linestyle='--')\n",
        "plt.xlim([0.0, 1.0])\n",
        "plt.ylim([0.0, 1.05])\n",
        "plt.xlabel('False Positive Rate')\n",
        "plt.ylabel('True Positive Rate')\n",
        "plt.title('ROC Curve for Brain Tumor Classification')\n",
        "plt.legend(loc=\"lower right\")\n",
        "plt.show()"
      ]
    },
    {
      "cell_type": "code",
      "source": [
        "from sklearn.metrics import roc_curve, auc\n",
        "from sklearn import svm\n",
        "from sklearn.preprocessing import label_binarize\n",
        "from sklearn.multiclass import OneVsRestClassifier\n",
        "\n",
        "# Convert y_train and y_val to one-hot encoded binary matrix\n",
        "y_train_binary = label_binarize(y_train, classes=[0, 1, 2, 3])\n",
        "y_val_binary = label_binarize(y_val, classes=[0, 1, 2, 3])\n",
        "\n",
        "# Train the model using OneVsRestClassifier\n",
        "model = OneVsRestClassifier(svm.SVC(kernel='linear', probability=True, random_state=0))\n",
        "model.fit(X_train, y_train_binary)\n",
        "\n",
        "# Compute the predicted probabilities for each class on the validation set\n",
        "y_score = model.predict_proba(X_val)\n",
        "\n",
        "# Compute the ROC curve for each class\n",
        "fpr = dict()\n",
        "tpr = dict()\n",
        "roc_auc = dict()\n",
        "for i in range(4):\n",
        "    fpr[i], tpr[i], _ = roc_curve(y_val_binary[:, i], y_score[:, i])\n",
        "    roc_auc[i] = auc(fpr[i], tpr[i])\n",
        "\n",
        "# Plot the ROC curves for each class\n",
        "plt.figure(figsize=(8, 6))\n",
        "colors = ['blue', 'green', 'red', 'orange']\n",
        "for i, color in zip(range(4), colors):\n",
        "    plt.plot(fpr[i], tpr[i], color=color, lw=2, label='ROC curve of class {0} (area = {1:0.2f})'\n",
        "             ''.format(i, roc_auc[i]))\n",
        "plt.plot([0, 1], [0, 1], color='gray', lw=2, linestyle='--')\n",
        "plt.xlim([0.0, 1.0])\n",
        "plt.ylim([0.0, 1.05])\n",
        "plt.xlabel('False Positive Rate')\n",
        "plt.ylabel('True Positive Rate')\n",
        "plt.title('ROC Curve for Brain Tumor Classification')\n",
        "plt.legend(loc=\"lower right\")\n",
        "plt.show()"
      ],
      "metadata": {
        "id": "3cO_sJecFK4k"
      },
      "execution_count": null,
      "outputs": []
    },
    {
      "cell_type": "code",
      "source": [
        "from sklearn.metrics import confusion_matrix\n",
        "\n",
        "# Calculate the confusion matrix\n",
        "cm = confusion_matrix(y_test_true, y_test_pred)\n",
        "\n",
        "# Calculate the sensitivity, specificity, and accuracy for each class\n",
        "tp = np.diag(cm)\n",
        "fn = cm.sum(axis=1) - tp\n",
        "fp = cm.sum(axis=0) - tp\n",
        "tn = cm.sum() - (tp + fn + fp)\n",
        "sensitivity = tp / (tp + fn)\n",
        "specificity = tn / (tn + fp)\n",
        "accuracy = (tp + tn) / (tp + tn + fp + fn)\n",
        "\n",
        "# Plot the bar chart\n",
        "classes = ['Glioma', 'Meningioma', 'No Tumor', 'Pituitary']\n",
        "x = np.arange(len(classes))\n",
        "width = 0.25\n",
        "fig, ax = plt.subplots()\n",
        "rects1 = ax.bar(x - width, sensitivity, width, label='Sensitivity')\n",
        "rects2 = ax.bar(x, specificity, width, label='Specificity')\n",
        "rects3 = ax.bar(x + width, accuracy, width, label='Accuracy')\n",
        "ax.set_ylabel('Metric Value')\n",
        "ax.set_xticks(x)\n",
        "ax.set_xticklabels(classes)\n",
        "ax.legend()\n",
        "plt.show()"
      ],
      "metadata": {
        "colab": {
          "base_uri": "https://localhost:8080/",
          "height": 265
        },
        "id": "A0dNb92BuRPr",
        "outputId": "be70ed99-90c4-4c59-d079-67a7b9914963"
      },
      "execution_count": 18,
      "outputs": [
        {
          "output_type": "display_data",
          "data": {
            "text/plain": [
              "<Figure size 432x288 with 1 Axes>"
            ],
            "image/png": "[encoded data removed]"
          },
          "metadata": {
            "needs_background": "light"
          }
        }
      ]
    },
    {
      "cell_type": "code",
      "source": [
        "from sklearn.metrics import precision_recall_curve, auc\n",
        "from sklearn import preprocessing\n",
        "lb = preprocessing.LabelBinarizer()\n",
        "\n",
        "# Fit label binarizer to test labels\n",
        "lb.fit(y_val)\n",
        "\n",
        "# Generate precision-recall curve and calculate AUC score\n",
        "precision = dict()\n",
        "recall = dict()\n",
        "pr_auc = dict()\n",
        "for i in range(len(lb.classes_)):\n",
        "    precision[i], recall[i], _ = precision_recall_curve(y_val[:, i], y_score[:, i])\n",
        "    pr_auc[i] = auc(recall[i], precision[i])\n",
        "\n",
        "# Plot precision-recall curve\n",
        "plt.figure()\n",
        "colors = ['darkorange', 'blue', 'green', 'purple']\n",
        "for i, color in zip(range(len(lb.classes_)), colors):\n",
        "    plt.plot(recall[i], precision[i], color=color, lw=2, label='PR curve of class {0} (area = {1:0.2f})'\n",
        "             ''.format(lb.classes_[i], pr_auc[i]))\n",
        "plt.xlim([0.0, 1.0])\n",
        "plt.ylim([0.0, 1.05])\n",
        "plt.xlabel('Recall')\n",
        "plt.ylabel('Precision')\n",
        "plt.title('Precision-Recall Curve')\n",
        "plt.legend(loc=\"lower left\")\n",
        "plt.show()"
      ],
      "metadata": {
        "colab": {
          "base_uri": "https://localhost:8080/",
          "height": 295
        },
        "id": "2m2Zw1BCytcY",
        "outputId": "8c4e91f5-9a48-48d7-ded4-7d51d579baf5"
      },
      "execution_count": 23,
      "outputs": [
        {
          "output_type": "display_data",
          "data": {
            "text/plain": [
              "<Figure size 432x288 with 1 Axes>"
            ],
            "image/png": "[encoded data removed]"
          },
          "metadata": {
            "needs_background": "light"
          }
        }
      ]
    }
  ],
  "metadata": {
    "accelerator": "GPU",
    "colab": {
      "provenance": []
    },
    "gpuClass": "standard",
    "kernelspec": {
      "display_name": "Python 3",
      "name": "python3"
    },
    "language_info": {
      "name": "python"
    }
  },
  "nbformat": 4,
  "nbformat_minor": 0
}